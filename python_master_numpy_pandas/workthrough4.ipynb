{
 "cells": [
  {
   "cell_type": "code",
   "execution_count": 1,
   "metadata": {},
   "outputs": [],
   "source": [
    "import pandas as pd\n",
    "import numpy as np"
   ]
  },
  {
   "cell_type": "markdown",
   "metadata": {},
   "source": [
    "read_csv(  \n",
    "    &emsp;file = \"path\",  \n",
    "    &emsp;sep = \"thing\",  \n",
    "    &emsp;header = 0, if there is no header then header = None  \n",
    "    &emsp;names = [\"columnname\", \"columnname\"] - column names,  \n",
    "    &emsp;index_col = \"column to use as index\",  \n",
    "    &emsp;usecols = [list of columns to keep in df],  \n",
    "    &emsp;dtype = {dictionary of column names and datatypes},  \n",
    "    &emsp;parse_dates = [column to parse] - converts date string into datetimes,  \n",
    "    &emsp;infer_datetime_format = True,  \n",
    "    &emsp;na_values = [list of strings to recognize as NaN],  \n",
    "    &emsp;nrows = int, number of rows to read in  \n",
    "    &emsp;skiprows = [list of ints] line numbers to skip (accepts lambda functions)  \n",
    "    &emsp;converters = {dictionary with column names and functions to apply}  \n",
    ")"
   ]
  },
  {
   "cell_type": "code",
   "execution_count": 2,
   "metadata": {},
   "outputs": [
    {
     "name": "stderr",
     "output_type": "stream",
     "text": [
      "UsageError: Cell magic `%%black` not found.\n"
     ]
    }
   ],
   "source": [
    "pd.read_csv(\"../data/product.csv\",\n",
    "            index_col=\"PRODUCT_ID\",\n",
    "            parse_dates=False)"
   ]
  }
 ],
 "metadata": {
  "kernelspec": {
   "display_name": ".venv",
   "language": "python",
   "name": "python3"
  },
  "language_info": {
   "codemirror_mode": {
    "name": "ipython",
    "version": 3
   },
   "file_extension": ".py",
   "mimetype": "text/x-python",
   "name": "python",
   "nbconvert_exporter": "python",
   "pygments_lexer": "ipython3",
   "version": "3.11.8"
  }
 },
 "nbformat": 4,
 "nbformat_minor": 2
}
